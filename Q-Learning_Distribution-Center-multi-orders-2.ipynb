{
  "cells": [
    {
      "cell_type": "markdown",
      "metadata": {
        "id": "Ybe8CY07zp7D"
      },
      "source": [
        "An Order Picking Robot in a Distribution Center\n",
        "\n",
        "A growing e-commerce company is building a new  distribution center, and the company would like all of the picking operations in the center to be performed by warehouse robots.\n",
        "* In the context of e-commerce warehousing, “picking” is the task of gathering individual items from various locations in the warehouse in order to fulfill customer orders.\n",
        "\n",
        "After picking items from the shelves, the robots must bring the items to a specific location within the warehouse where the items can be packaged for shipping.\n",
        "\n",
        "In order to ensure maximum efficiency and productivity, the robots will need to learn the shortest path between the item packaging area and all other locations within the warehouse where the robots are allowed to travel.\n",
        "* We will use Q-learning to accomplish this task!\n",
        "\n",
        "#### Import Required Libraries"
      ]
    },
    {
      "cell_type": "code",
      "execution_count": 20,
      "metadata": {
        "id": "rfdhGGMsw1H7"
      },
      "outputs": [],
      "source": [
        "#import libraries\n",
        "import numpy as np\n",
        "# import image module\n",
        "from IPython.display import Image\n",
        "import matplotlib.pyplot as plt\n",
        "from matplotlib import colors\n",
        "import matplotlib as mpl\n",
        "import random"
      ]
    },
    {
      "cell_type": "markdown",
      "metadata": {
        "id": "Kq-QPfDnx4Fo"
      },
      "source": [
        "## Define the Environment\n",
        "The environment consists of **states**, **actions**, and **rewards**. States and actions are inputs for the Q-learning AI agent, while the possible actions are the AI agent's outputs.\n",
        "#### States\n",
        "The states in the environment are all of the possible locations within the warehouse. Some of these locations are for storing items (**black squares**), while other locations are aisles that the robot can use to travel throughout the warehouse (**white squares**). The **green square** indicates the item packaging and shipping area.\n",
        "\n",
        "The black and green squares are **terminal states**!\n",
        "\n",
        "\n",
        "The AI agent's goal is to learn the shortest path between the item packaging area and all of the other locations in the warehouse where the robot is allowed to travel.\n",
        "\n",
        "As shown in the image above, there are 121 possible states (locations) within the warehouse. These states are arranged in a grid containing 11 rows and 11 columns. Each location can hence be identified by its row and column index."
      ]
    },
    {
      "cell_type": "code",
      "execution_count": 35,
      "metadata": {},
      "outputs": [
        {
          "data": {
            "text/html": [
              "<img src=\"images/Distribution-Center-Map-easy-without-rewards.jpg\" width=\"500\" height=\"500\"/>"
            ],
            "text/plain": [
              "<IPython.core.display.Image object>"
            ]
          },
          "execution_count": 35,
          "metadata": {},
          "output_type": "execute_result"
        }
      ],
      "source": [
        "# get the image\n",
        "Image(url=\"images/Distribution-Center-Map-easy-without-rewards.jpg\", width=500, height=500)"
      ]
    },
    {
      "cell_type": "code",
      "execution_count": 22,
      "metadata": {
        "id": "9AdpFVfy6ya9"
      },
      "outputs": [],
      "source": [
        "#define the shape of the environment (i.e., its states)\n",
        "environment_rows = 11\n",
        "environment_columns = 11\n",
        "\n",
        "#Create a 3D numpy array to hold the current Q-values for each state and action pair: Q(s, a)\n",
        "#The array contains 11 rows and 11 columns (to match the shape of the environment), as well as a third \"action\" dimension.\n",
        "#The \"action\" dimension consists of 4 layers that will allow us to keep track of the Q-values for each possible action in\n",
        "#each state (see next cell for a description of possible actions).\n",
        "#The value of each (state, action) pair is initialized to 0.\n",
        "q_values = np.zeros((environment_rows, environment_columns, 4))"
      ]
    },
    {
      "cell_type": "markdown",
      "metadata": {
        "id": "07gGSNz07xtP"
      },
      "source": [
        "#### Actions\n",
        "The actions that are available to the AI agent are to move the robot in one of four directions:\n",
        "* Up\n",
        "* Right\n",
        "* Down\n",
        "* Left\n",
        "\n",
        "Obviously, the AI agent must learn to avoid driving into the item storage locations (e.g., shelves)!\n"
      ]
    },
    {
      "cell_type": "code",
      "execution_count": 23,
      "metadata": {
        "id": "z43QX_t080q3"
      },
      "outputs": [],
      "source": [
        "#define actions\n",
        "#numeric action codes: 0 = up, 1 = right, 2 = down, 3 = left\n",
        "actions = ['up', 'right', 'down', 'left']"
      ]
    },
    {
      "cell_type": "markdown",
      "metadata": {
        "id": "X25vn4VKw2as"
      },
      "source": [
        "#### Rewards\n",
        "The last component of the environment that we need to define are the **rewards**.\n",
        "\n",
        "To help the AI agent learn, each state (location) in the warehouse is assigned a reward value.\n",
        "\n",
        "The agent may begin at any white square, but its goal is always the same: ***to maximize its total rewards***!\n",
        "\n",
        "Negative rewards (i.e., **punishments**) are used for all states except the goal.\n",
        "* This encourages the AI to identify the *shortest path* to the goal by *minimizing its punishments*!\n",
        "\n",
        "To maximize its cumulative rewards (by minimizing its cumulative punishments), the AI agent will need find the shortest paths between the item packaging area (green square) and all of the other locations in the warehouse where the robot is allowed to travel (white squares). The agent will also need to learn to avoid crashing into any of the item storage locations (black squares)!"
      ]
    },
    {
      "cell_type": "code",
      "execution_count": 36,
      "metadata": {},
      "outputs": [
        {
          "data": {
            "text/html": [
              "<img src=\"images/Distribution-Center-Map-easy.jpg\" width=\"500\" height=\"500\"/>"
            ],
            "text/plain": [
              "<IPython.core.display.Image object>"
            ]
          },
          "execution_count": 36,
          "metadata": {},
          "output_type": "execute_result"
        }
      ],
      "source": [
        "# get the image\n",
        "Image(url=\"images/Distribution-Center-Map-easy.jpg\", width=500, height=500)"
      ]
    },
    {
      "cell_type": "code",
      "execution_count": 25,
      "metadata": {},
      "outputs": [],
      "source": [
        "ORDER_REWARD = 100.\n",
        "TERMINAL_PENALTY = -100.\n",
        "STEP_PENALTY = -1.\n",
        "NUM_ORDERS = 3"
      ]
    },
    {
      "cell_type": "code",
      "execution_count": 26,
      "metadata": {
        "id": "GIJu7XsLXw62"
      },
      "outputs": [
        {
          "name": "stdout",
          "output_type": "stream",
          "text": [
            "[-100. -100. -100. -100. -100. -100. -100. -100. -100. -100. -100.]\n",
            "[-100.   -1.   -1.   -1.   -1.   -1.   -1.   -1.   -1.   -1. -100.]\n",
            "[-100.   -1. -100. -100. -100.   -1. -100. -100.  100.   -1. -100.]\n",
            "[-100.   -1. -100. -100. -100.   -1. -100. -100. -100.   -1. -100.]\n",
            "[-100.   -1.   -1.   -1.   -1.   -1.   -1.   -1.   -1.   -1. -100.]\n",
            "[-100.   -1. -100. -100. -100.   -1. -100. -100. -100.   -1. -100.]\n",
            "[-100.   -1.  100. -100. -100.   -1. -100. -100. -100.   -1. -100.]\n",
            "[-100.   -1.   -1.   -1.   -1.   -1.   -1.   -1.   -1.   -1. -100.]\n",
            "[-100.   -1. -100. -100. -100.   -1. -100. -100.  100.   -1. -100.]\n",
            "[-100.   -1.   -1.   -1.   -1.   -1.   -1.   -1.   -1.   -1. -100.]\n",
            "[-100. -100. -100. -100. -100. -100. -100. -100. -100. -100. -100.]\n"
          ]
        }
      ],
      "source": [
        "#Create a 2D numpy array to hold the rewards for each state.\n",
        "#The array contains 11 rows and 11 columns (to match the shape of the environment), and each value is initialized to -100.\n",
        "rewards = np.full((environment_rows, environment_columns), TERMINAL_PENALTY)\n",
        "rewards[2, 8] = ORDER_REWARD #set the reward for the packaging area (i.e., the goal) to 100\n",
        "rewards[6, 2] = ORDER_REWARD\n",
        "rewards[8, 8] = ORDER_REWARD\n",
        "\n",
        "#define aisle locations (i.e., white squares) for rows 1 through 9\n",
        "aisles = {} #store locations in a dictionary\n",
        "aisles[0] = []\n",
        "aisles[1] = [i for i in range(1,10)]\n",
        "aisles[2] = [1, 5, 9]\n",
        "aisles[3] = [1, 5, 9]\n",
        "aisles[4] = [i for i in range(1,10)]\n",
        "aisles[5] = [1, 5, 9]\n",
        "aisles[6] = [1, 5, 9]\n",
        "aisles[7] = [i for i in range(1,10)]\n",
        "aisles[8] = [1, 5, 9]\n",
        "aisles[9] = [i for i in range(1,10)]\n",
        "aisles[10] = []\n",
        "\n",
        "#set the rewards for all aisle locations (i.e., white squares)\n",
        "for row_index in range(0, 11):\n",
        "  for column_index in aisles[row_index]:\n",
        "    rewards[row_index, column_index] = STEP_PENALTY\n",
        "\n",
        "#print rewards matrix\n",
        "for row in rewards:\n",
        "  print(row)"
      ]
    },
    {
      "cell_type": "code",
      "execution_count": 27,
      "metadata": {},
      "outputs": [
        {
          "data": {
            "image/png": "[encoded data removed]",
            "text/plain": [
              "<Figure size 640x480 with 1 Axes>"
            ]
          },
          "metadata": {},
          "output_type": "display_data"
        }
      ],
      "source": [
        "plt.figure()\n",
        "colormap = colors.ListedColormap([\"gray\",\"white\",\"green\"])\n",
        "im = plt.imshow(rewards, cmap= colormap)\n",
        "\n",
        "ax = plt.gca()\n",
        "\n",
        "# Major ticks\n",
        "ax.set_xticks(np.arange(0, 11, 1))\n",
        "ax.set_yticks(np.arange(0, 11, 1))\n",
        "\n",
        "# Labels for major ticks\n",
        "ax.set_xticklabels(np.arange(0, 11, 1))\n",
        "ax.set_yticklabels(np.arange(0, 11, 1))\n",
        "\n",
        "# Minor ticks\n",
        "ax.set_xticks(np.arange(-.5, 10, 1), minor=True)\n",
        "ax.set_yticks(np.arange(-.5, 10, 1), minor=True)\n",
        "\n",
        "# Let the horizontal axes labeling appear on top.\n",
        "ax.tick_params(top=True, bottom=False,\n",
        "                   labeltop=True, labelbottom=False)\n",
        "\n",
        "for i in range(0,11):\n",
        "    for j in range(0,11):\n",
        "        text = ax.text(j, i, rewards[i, j],\n",
        "                       ha=\"center\", va=\"center\", color=\"black\", fontsize=7)\n",
        "\n",
        "# Gridlines based on minor ticks\n",
        "ax.grid(which='minor', color='black', linestyle='-', linewidth=2)\n",
        "\n",
        "# Remove minor ticks\n",
        "ax.tick_params(which='minor', bottom=False, left=False)\n",
        "\n",
        "\n",
        "ax.set_title(\"Distribution Center Map Easy\")\n",
        "plt.show()\n",
        "# plt.savefig('Distribution-Center-Map-easy.jpg')"
      ]
    },
    {
      "cell_type": "markdown",
      "metadata": {
        "id": "GFEor01iCCin"
      },
      "source": [
        "## Train the Model\n",
        "Our next task is for our AI agent to learn about its environment by implementing a Q-learning model. The learning process will follow these steps:\n",
        "1. Choose a random, non-terminal state (white square) for the agent to begin this new episode.\n",
        "2. Choose an action (move *up*, *right*, *down*, or *left*) for the current state. Actions will be chosen using an *epsilon greedy algorithm*. This algorithm will usually choose the most promising action for the AI agent, but it will occasionally choose a less promising option in order to encourage the agent to explore the environment.\n",
        "3. Perform the chosen action, and transition to the next state (i.e., move to the next location).\n",
        "4. Receive the reward for moving to the new state, and calculate the temporal difference.\n",
        "5. Update the Q-value for the previous state and action pair.\n",
        "6. If the new (current) state is a terminal state, go to #1. Else, go to #2.\n",
        "\n",
        "This entire process will be repeated across 1000 episodes. This will provide the AI agent sufficient opportunity to learn the shortest paths between the item packaging area and all other locations in the warehouse where the robot is allowed to travel, while simultaneously avoiding crashing into any of the item storage locations!\n",
        "\n",
        "#### Define Helper Functions"
      ]
    },
    {
      "cell_type": "code",
      "execution_count": 28,
      "metadata": {
        "id": "DnCfO5tVG0LJ"
      },
      "outputs": [],
      "source": [
        "#define a function that determines if the specified location is a terminal state\n",
        "def is_terminal_state(current_row_index, current_column_index):\n",
        "  #if the reward for this location is -1, then it is not a terminal state (i.e., it is a 'white square')\n",
        "  if rewards[current_row_index, current_column_index] == TERMINAL_PENALTY:\n",
        "    return True\n",
        "  else:\n",
        "    return False\n",
        "  \n",
        "def is_order_state(current_row_index, current_column_index):\n",
        "  #if the reward for this location is -1, then it is not a terminal state (i.e., it is a 'white square')\n",
        "  if rewards[current_row_index, current_column_index] ==  ORDER_REWARD:\n",
        "    return True\n",
        "  else:\n",
        "    return False\n",
        "\n",
        "#define a function that will choose a random, non-terminal starting location\n",
        "def get_starting_location():\n",
        "  #get a random row and column index\n",
        "  current_row_index = np.random.randint(environment_rows)\n",
        "  current_column_index = np.random.randint(environment_columns)\n",
        "  #continue choosing random row and column indexes until a non-terminal state is identified\n",
        "  #(i.e., until the chosen state is a 'white square').\n",
        "  while is_terminal_state(current_row_index, current_column_index) or is_order_state(current_row_index, current_column_index):\n",
        "    current_row_index = np.random.randint(environment_rows)\n",
        "    current_column_index = np.random.randint(environment_columns)\n",
        "  return current_row_index, current_column_index\n",
        "\n",
        "# if we wanted to start at a specific location, we could use this function:\n",
        "# def get_starting_location():\n",
        "#   return 0,5\n",
        "\n",
        "\n",
        "#define an epsilon greedy algorithm that will choose which action to take next (i.e., where to move next)\n",
        "def get_next_action(current_row_index, current_column_index, epsilon):\n",
        "  #if a randomly chosen value between 0 and 1 is less than epsilon,\n",
        "  #then choose the most promising value from the Q-table for this state.\n",
        "  if np.random.random() < epsilon:\n",
        "    return np.argmax(q_values[current_row_index, current_column_index])\n",
        "  else: #choose a random action\n",
        "    return np.random.randint(4)\n",
        "\n",
        "#define a function that will get the next location based on the chosen action\n",
        "def get_next_location(current_row_index, current_column_index, action_index):\n",
        "  new_row_index = current_row_index\n",
        "  new_column_index = current_column_index\n",
        "  if actions[action_index] == 'up' and current_row_index > 0:\n",
        "    new_row_index -= 1\n",
        "  elif actions[action_index] == 'right' and current_column_index < environment_columns - 1:\n",
        "    new_column_index += 1\n",
        "  elif actions[action_index] == 'down' and current_row_index < environment_rows - 1:\n",
        "    new_row_index += 1\n",
        "  elif actions[action_index] == 'left' and current_column_index > 0:\n",
        "    new_column_index -= 1\n",
        "  else:\n",
        "    raise Exception(f\"Invalid action {action_index}\")\n",
        "  return new_row_index, new_column_index\n",
        "\n",
        "#Define a function that will get the shortest path between any location within the warehouse that\n",
        "#the robot is allowed to travel and the item packaging location.\n",
        "def get_shortest_path(start_row_index, start_column_index, num_orders = NUM_ORDERS, max_length = 10000):\n",
        "  local_rewards = rewards.copy()\n",
        "  #return immediately if this is an invalid starting location\n",
        "  if is_terminal_state(start_row_index, start_column_index):\n",
        "    print(\"You can't start at a terminal state.\")\n",
        "    return []\n",
        "  else: #if this is a 'legal' starting location\n",
        "    current_row_index, current_column_index = start_row_index, start_column_index\n",
        "    shortest_path = []\n",
        "    shortest_path.append([current_row_index, current_column_index])\n",
        "    #continue moving along the path until we reach the goal (i.e., the item packaging location)\n",
        "    while not is_terminal_state(current_row_index, current_column_index) and num_orders > 0:\n",
        "      if local_rewards[current_row_index, current_column_index] == ORDER_REWARD:\n",
        "        num_orders -= 1\n",
        "        local_rewards[current_row_index, current_column_index] = STEP_PENALTY\n",
        "      #get the best action to take | the 1. states that this is an exploitation-only policy\n",
        "      action_index = get_next_action(current_row_index, current_column_index, 1.)\n",
        "      #move to the next location on the path, and add the new location to the list\n",
        "      current_row_index, current_column_index = get_next_location(current_row_index, current_column_index, action_index)\n",
        "      shortest_path.append([current_row_index, current_column_index])\n",
        "      if len(shortest_path) > max_length:\n",
        "        print(\"This path is taking too long to compute.  Something is wrong!\")\n",
        "        break\n",
        "    return shortest_path"
      ]
    },
    {
      "cell_type": "markdown",
      "metadata": {
        "id": "pjl9niKEqONs"
      },
      "source": [
        "#### Train the AI Agent using Q-Learning"
      ]
    },
    {
      "cell_type": "code",
      "execution_count": 29,
      "metadata": {},
      "outputs": [],
      "source": [
        "#define training parameters\n",
        "epsilon = 0.1 #the percentage of time when we should take the best action (instead of a random action)\n",
        "discount_factor = 0.5 #discount factor for future rewards\n",
        "learning_rate = 0.01 #the rate at which the AI agent should learn\n",
        "# Counting the number of orders left.\n",
        "order_left = NUM_ORDERS"
      ]
    },
    {
      "cell_type": "code",
      "execution_count": 30,
      "metadata": {
        "id": "3N5BB0m0JHIn"
      },
      "outputs": [],
      "source": [
        "# #run through 1000 training episodes\n",
        "# for episode in range(1000):\n",
        "#   #get the starting location for this episode\n",
        "#   row_index, column_index = get_starting_location()\n",
        "\n",
        "#   #continue taking actions (i.e., moving) until we reach a terminal state\n",
        "#   #(i.e., until we reach the item packaging area or crash into an item storage location)\n",
        "#   while not is_terminal_state(row_index, column_index) and order_left > 0:\n",
        "#     #choose which action to take (i.e., where to move next)\n",
        "#     action_index = get_next_action(row_index, column_index, epsilon)\n",
        "\n",
        "#     #perform the chosen action, and transition to the next state (i.e., move to the next location)\n",
        "#     old_row_index, old_column_index = row_index, column_index #store the old row and column indexes\n",
        "#     row_index, column_index = get_next_location(row_index, column_index, action_index)\n",
        "\n",
        "#     #receive the reward for moving to the new state, and calculate the temporal difference\n",
        "#     reward = rewards[row_index, column_index]\n",
        "#     if reward == ORDER_REWARD:\n",
        "#       order_left -= 1\n",
        "    \n",
        "    \n",
        "#     old_q_value = q_values[old_row_index, old_column_index, action_index]\n",
        "#     temporal_difference = reward + (discount_factor * np.max(q_values[row_index, column_index])) - old_q_value\n",
        "\n",
        "#     #update the Q-value for the previous state and action pair\n",
        "#     new_q_value = old_q_value + (learning_rate * temporal_difference)\n",
        "#     q_values[old_row_index, old_column_index, action_index] = new_q_value\n",
        "\n",
        "# print('Training complete!')"
      ]
    },
    {
      "cell_type": "code",
      "execution_count": 31,
      "metadata": {},
      "outputs": [
        {
          "name": "stderr",
          "output_type": "stream",
          "text": [
            "Training Progress: 100%|██████████| 100000/100000 [00:46<00:00, 2149.06episode/s, Order left=0]\n"
          ]
        }
      ],
      "source": [
        "from tqdm import tqdm\n",
        "\n",
        "# Number of training episodes\n",
        "num_episodes = 100000\n",
        "\n",
        "# Create a progress bar with the total number of episodes\n",
        "progress_bar = tqdm(range(num_episodes), desc=\"Training Progress\", unit=\"episode\")\n",
        "\n",
        "# Run through the training episodes\n",
        "rewards_copy = rewards.copy()\n",
        "for episode in progress_bar:\n",
        "    # get the starting location for this episode\n",
        "    row_index, column_index = get_starting_location()\n",
        "\n",
        "    # continue taking actions (i.e., moving) until we reach a terminal state\n",
        "    # (i.e., until we reach the item packaging area or crash into an item storage location)\n",
        "    while not is_terminal_state(row_index, column_index) and order_left > 0:\n",
        "        # choose which action to take (i.e., where to move next)\n",
        "        action_index = get_next_action(row_index, column_index, epsilon)\n",
        "\n",
        "        # perform the chosen action, and transition to the next state (i.e., move to the next location)\n",
        "        old_row_index, old_column_index = row_index, column_index  # store the old row and column indexes\n",
        "        row_index, column_index = get_next_location(row_index, column_index, action_index)\n",
        "\n",
        "        # receive the reward for moving to the new state, and calculate the temporal difference\n",
        "        reward = rewards_copy[row_index, column_index]\n",
        "        if reward == ORDER_REWARD:\n",
        "            order_left -= 1\n",
        "            rewards_copy[row_index, column_index] = STEP_PENALTY\n",
        "        old_q_value = q_values[old_row_index, old_column_index, action_index]\n",
        "        temporal_difference = reward + (discount_factor * np.max(q_values[row_index, column_index])) - old_q_value\n",
        "\n",
        "        # update the Q-value for the previous state and action pair\n",
        "        new_q_value = old_q_value + (learning_rate * temporal_difference)\n",
        "        q_values[old_row_index, old_column_index, action_index] = new_q_value\n",
        "\n",
        "    # Update the progress bar description after each episode\n",
        "    progress_bar.set_postfix({\"Order left\": order_left})\n",
        "\n",
        "# Close the progress bar after training is complete\n",
        "progress_bar.close()\n"
      ]
    },
    {
      "cell_type": "markdown",
      "metadata": {
        "id": "-JqQfjYdfyBh"
      },
      "source": [
        "## Get Shortest Paths\n",
        "Now that the AI agent has been fully trained, we can see what it has learned by displaying the shortest path between any location in the warehouse where the robot is allowed to travel and the item packaging area.\n",
        "\n",
        "Run the code cell below to try a few different starting locations!"
      ]
    },
    {
      "cell_type": "code",
      "execution_count": 37,
      "metadata": {},
      "outputs": [
        {
          "data": {
            "text/html": [
              "<img src=\"images/Distribution-Center-Map-easy.jpg\" width=\"500\" height=\"500\"/>"
            ],
            "text/plain": [
              "<IPython.core.display.Image object>"
            ]
          },
          "execution_count": 37,
          "metadata": {},
          "output_type": "execute_result"
        }
      ],
      "source": [
        "# get the image\n",
        "Image(url=\"images/Distribution-Center-Map-easy.jpg\", width=500, height=500)"
      ]
    },
    {
      "cell_type": "code",
      "execution_count": 33,
      "metadata": {
        "id": "F1YO3mj_oS2J"
      },
      "outputs": [
        {
          "name": "stdout",
          "output_type": "stream",
          "text": [
            "[[1, 5], [0, 5]]\n"
          ]
        }
      ],
      "source": [
        "#display a few shortest paths\n",
        "print(get_shortest_path(1, 5)) #starting at row 3, column 9\n",
        "# print(get_shortest_path(5, 0)) #starting at row 5, column 0\n",
        "# print(get_shortest_path(9, 5)) #starting at row 9, column 5"
      ]
    },
    {
      "cell_type": "markdown",
      "metadata": {
        "id": "tWx7BsJxqrDv"
      },
      "source": [
        "#### Finally...\n",
        "It's great that our robot can automatically take the shortest path from any 'legal' location in the warehouse to the item packaging area. **But what about the opposite scenario?**\n",
        "\n",
        "Put differently, our robot can currently deliver an item from anywhere in the warehouse ***to*** the packaging area, but after it delivers the item, it will need to travel ***from*** the packaging area to another location in the warehouse to pick up the next item!\n",
        "\n",
        "Don't worry -- this problem is easily solved simply by ***reversing the order of the shortest path***.\n",
        "\n",
        "Run the code cell below to see an example:"
      ]
    },
    {
      "cell_type": "code",
      "execution_count": 34,
      "metadata": {
        "id": "fKun8LInsas9"
      },
      "outputs": [
        {
          "name": "stdout",
          "output_type": "stream",
          "text": [
            "[[0, 5], [1, 5]]\n"
          ]
        }
      ],
      "source": [
        "#display an example of reversed shortest path\n",
        "path = get_shortest_path(1, 5) #go to row 5, column 2\n",
        "path.reverse()\n",
        "print(path)"
      ]
    }
  ],
  "metadata": {
    "colab": {
      "provenance": []
    },
    "kernelspec": {
      "display_name": "Python 3",
      "name": "python3"
    },
    "language_info": {
      "codemirror_mode": {
        "name": "ipython",
        "version": 3
      },
      "file_extension": ".py",
      "mimetype": "text/x-python",
      "name": "python",
      "nbconvert_exporter": "python",
      "pygments_lexer": "ipython3",
      "version": "3.9.16"
    }
  },
  "nbformat": 4,
  "nbformat_minor": 0
}
