{
 "cells": [
  {
   "cell_type": "markdown",
   "metadata": {},
   "source": [
    "# Path finding for a Single-Order Picking Robot in a Distribution Center with Genetic Algorithm\n",
    "\n",
    "Consider an e-commerce company has a distribution center, and the company would like all of the picking operations in the center to be performed by warehouse robots.\n",
    "* In the context of e-commerce warehousing, “picking” is the task of gathering individual items from various locations in the warehouse in order to fulfill customer orders.\n",
    "\n",
    "In order to ensure maximum efficiency and productivity, the robots will need to learn the shortest path between the item packaging area and all other locations within the warehouse where the robots are allowed to travel.\n",
    "* We will use Genetic algorithm to accomplish this task!\n",
    "\n",
    "#### Import Required Libraries"
   ]
  },
  {
   "cell_type": "code",
   "execution_count": 1,
   "metadata": {},
   "outputs": [],
   "source": [
    "import numpy as np\n",
    "import matplotlib.pyplot as plt\n",
    "from matplotlib.colors import ListedColormap\n",
    "from tqdm import tqdm"
   ]
  },
  {
   "cell_type": "markdown",
   "metadata": {},
   "source": [
    "## Define the Environment\n",
    "We define the layout of the warehouse environment, including aisle locations, item and robot starting points, shelf locations, and the visualization grid.\n",
    "\n",
    "The squares in the environment are all of the possible locations within the warehouse. Some of these locations are for storing items (**gray squares**), while other locations are aisles that the robot can use to travel throughout the warehouse (**white squares**). The **green square** indicates the item loaction.\n",
    "\n",
    "The goal is to learn the shortest path between the item location and all of the other locations in the warehouse where the robot is allowed to travel.\n",
    "\n",
    "As shown in the image below, there are 121 possible locations within the warehouse (11 rows and 11 columns). Each location can hence be identified by its row and column index."
   ]
  },
  {
   "cell_type": "code",
   "execution_count": 2,
   "metadata": {},
   "outputs": [],
   "source": [
    "# Define aisle locations\n",
    "aisles = {\n",
    "    0: [],\n",
    "    1: [i for i in range(1,10)],\n",
    "    2: [1, 5, 9],\n",
    "    3: [1, 5, 9],\n",
    "    4: [i for i in range(1,10)],\n",
    "    5: [1, 5, 9],\n",
    "    6: [i for i in range(1,10)],\n",
    "    7: [1, 5, 9],\n",
    "    8: [1, 5, 9],\n",
    "    9: [i for i in range(1,10)],\n",
    "    10: []\n",
    "}\n",
    "# Define item and robot starting points\n",
    "item_location = (5,7)\n",
    "robot_start = (1, 5)  # Starting point for the robot\n",
    "robot_end = (5,7)    # Ending point for the robot\n",
    " \n",
    "# Shelf locations\n",
    "shelves = []\n",
    "for row, cols in aisles.items():\n",
    "    for col in cols:\n",
    "        if (row, col) != robot_start and (row, col) != robot_end:\n",
    "            shelves.append((row, col))\n",
    "            "
   ]
  },
  {
   "cell_type": "markdown",
   "metadata": {},
   "source": [
    "### Visualization of Warehouse Environment\n",
    "Let's visualize the warehouse environment with shelves, starting point, and item location."
   ]
  },
  {
   "cell_type": "code",
   "execution_count": 3,
   "metadata": {},
   "outputs": [
    {
     "ename": "NameError",
     "evalue": "name 'grid' is not defined",
     "output_type": "error",
     "traceback": [
      "\u001b[1;31m---------------------------------------------------------------------------\u001b[0m",
      "\u001b[1;31mNameError\u001b[0m                                 Traceback (most recent call last)",
      "Cell \u001b[1;32mIn[3], line 12\u001b[0m\n\u001b[0;32m      9\u001b[0m ax \u001b[39m=\u001b[39m plt\u001b[39m.\u001b[39mgca()\n\u001b[0;32m     10\u001b[0m ax\u001b[39m.\u001b[39mxaxis\u001b[39m.\u001b[39mtick_top()\n\u001b[1;32m---> 12\u001b[0m plt\u001b[39m.\u001b[39mimshow(grid, cmap\u001b[39m=\u001b[39mcmap, origin\u001b[39m=\u001b[39m\u001b[39m'\u001b[39m\u001b[39mupper\u001b[39m\u001b[39m'\u001b[39m, vmin\u001b[39m=\u001b[39m\u001b[39m0\u001b[39m, vmax\u001b[39m=\u001b[39m\u001b[39m3\u001b[39m)\n\u001b[0;32m     14\u001b[0m plt\u001b[39m.\u001b[39mxticks(np\u001b[39m.\u001b[39marange(\u001b[39m11\u001b[39m)\u001b[39m-\u001b[39m\u001b[39m0.5\u001b[39m, np\u001b[39m.\u001b[39marange(\u001b[39m11\u001b[39m))\n\u001b[0;32m     15\u001b[0m plt\u001b[39m.\u001b[39myticks(np\u001b[39m.\u001b[39marange(\u001b[39m11\u001b[39m)\u001b[39m-\u001b[39m\u001b[39m0.5\u001b[39m, np\u001b[39m.\u001b[39marange(\u001b[39m11\u001b[39m))\n",
      "\u001b[1;31mNameError\u001b[0m: name 'grid' is not defined"
     ]
    },
    {
     "data": {
      "image/png": "[encoded data removed]",
      "text/plain": [
       "<Figure size 600x600 with 1 Axes>"
      ]
     },
     "metadata": {},
     "output_type": "display_data"
    }
   ],
   "source": [
    "# Define custom colors for visualization\n",
    "colors = ['gray', 'white','red', 'green']\n",
    "cmap = ListedColormap(colors)\n",
    "\n",
    "# Plot the environment\n",
    "plt.figure(figsize=(6, 6))\n",
    "\n",
    "# Let the horizontal axes labeling appear on top\n",
    "ax = plt.gca()\n",
    "ax.xaxis.tick_top()\n",
    "\n",
    "plt.imshow(grid, cmap=cmap, origin='upper', vmin=0, vmax=3)\n",
    "\n",
    "plt.xticks(np.arange(11)-0.5, np.arange(11))\n",
    "plt.yticks(np.arange(11)-0.5, np.arange(11))\n",
    "plt.title(\"Distribution Center Map 1\")\n",
    "plt.grid(True, color='black', linewidth=1)\n",
    "\n",
    "# Display the plot\n",
    "plt.show()"
   ]
  },
  {
   "cell_type": "markdown",
   "metadata": {},
   "source": [
    "### Genetic Algorithm Constants and Fitness Function\n",
    "We set the constants for the genetic algorithm and define a function to calculate the fitness of a given path."
   ]
  },
  {
   "cell_type": "code",
   "execution_count": null,
   "metadata": {},
   "outputs": [],
   "source": [
    "# Genetic Algorithm Constants\n",
    "POPULATION_SIZE = 700\n",
    "NUM_GENERATIONS = 2500\n",
    "MUTATION_RATE = 0.4"
   ]
  },
  {
   "cell_type": "code",
   "execution_count": null,
   "metadata": {},
   "outputs": [],
   "source": [
    "# Function to calculate the fitness of a path\n",
    "def calculate_fitness(path):\n",
    "    current_pos = robot_start\n",
    "    path_cost = 0\n",
    "    for move in path:\n",
    "        new_pos = (current_pos[0] + move_directions[move][0], current_pos[1] + move_directions[move][1])\n",
    "        if new_pos[0] >= 0 and new_pos[0] < 11 and new_pos[1] >= 0 and new_pos[1] < 11 and new_pos not in aisles.values():\n",
    "            if new_pos not in shelves:  # Check if the new position is not a shelf\n",
    "                path_cost += 1\n",
    "            current_pos = new_pos\n",
    "            if current_pos == robot_end:  # Reached the destination\n",
    "                return path_cost\n",
    "        else:\n",
    "            return float('inf')  # Avoid paths that hit walls or shelves\n",
    "    return float('inf')\n"
   ]
  },
  {
   "cell_type": "markdown",
   "metadata": {},
   "source": [
    "#### Actions\n",
    "The actions that are available are to move the robot in one of four directions:\n",
    "* Up\n",
    "* Right\n",
    "* Down\n",
    "* Left"
   ]
  },
  {
   "cell_type": "code",
   "execution_count": null,
   "metadata": {},
   "outputs": [],
   "source": [
    "# Define move directions (0 = up, 1 = right, 2 = down, 3 = left)\n",
    "move_directions = [(0, -1), (1, 0), (0, 1), (-1, 0)]"
   ]
  },
  {
   "cell_type": "markdown",
   "metadata": {},
   "source": [
    "## Genetic Algorithm Implementation\n",
    "We implement the genetic algorithm to find the shortest path."
   ]
  },
  {
   "cell_type": "code",
   "execution_count": null,
   "metadata": {},
   "outputs": [
    {
     "name": "stderr",
     "output_type": "stream",
     "text": [
      "100%|██████████| 2500/2500 [00:10<00:00, 242.07it/s]\n"
     ]
    }
   ],
   "source": [
    "# Genetic algorithm\n",
    "population = [np.random.randint(4, size=np.random.randint(10, 50)) for _ in range(POPULATION_SIZE)]\n",
    "\n",
    "robot_start = (1, 5)  # Starting point for the robot\n",
    "robot_end = (5,7)    # Ending point for the robot\n",
    "\n",
    "# Use tqdm to create a progress bar for the loop\n",
    "for generation in tqdm(range(NUM_GENERATIONS)):\n",
    "    # Calculate fitness for each individual\n",
    "    fitness_values = [calculate_fitness(path) for path in population]\n",
    "\n",
    "    # Select parents based on fitness\n",
    "    selected_indices = np.argsort(fitness_values)[:2]  # Select the top 2 paths\n",
    "    parents = [population[i] for i in selected_indices]\n",
    "\n",
    "    # Crossover\n",
    "    crossover_point = np.random.randint(1, min(len(parents[0]), len(parents[1])))\n",
    "    child = np.concatenate((parents[0][:crossover_point], parents[1][crossover_point:]))\n",
    "\n",
    "    # Mutation\n",
    "    if np.random.rand() < MUTATION_RATE:\n",
    "        mutation_point = np.random.randint(len(child))\n",
    "        mutation_value = np.random.randint(4)\n",
    "        child[mutation_point] = mutation_value\n",
    "\n",
    "    # Replace the least fit individual with the new child\n",
    "    least_fit_index = np.argmax(fitness_values)\n",
    "    population[least_fit_index] = child"
   ]
  },
  {
   "cell_type": "markdown",
   "metadata": {},
   "source": [
    "## Finding the Shortest Path\n",
    "We find the shortest path using the genetic algorithm and convert it to coordinate format."
   ]
  },
  {
   "cell_type": "code",
   "execution_count": null,
   "metadata": {},
   "outputs": [
    {
     "name": "stdout",
     "output_type": "stream",
     "text": [
      "[[1, 5], [2, 5], [3, 5], [4, 5], [4, 6], [4, 7], [5, 7]]\n"
     ]
    }
   ],
   "source": [
    "# Find the shortest path using genetic algorithm\n",
    "best_path = population[np.argmin(fitness_values)]\n",
    "\n",
    "# Convert best path to coordinate format\n",
    "coordinate_path = [list(robot_start)]\n",
    "current_pos = robot_start\n",
    "for move in best_path:\n",
    "    new_pos = (current_pos[0] + move_directions[move][0], current_pos[1] + move_directions[move][1])\n",
    "    if new_pos[0] >= 0 and new_pos[0] < 11 and new_pos[1] >= 0 and new_pos[1] < 11 and new_pos not in aisles.values():\n",
    "        coordinate_path.append(list(new_pos))\n",
    "        current_pos = new_pos\n",
    "        if current_pos == robot_end:\n",
    "            break\n",
    "\n",
    "# Print the shortest path in the requested format\n",
    "print(coordinate_path)"
   ]
  },
  {
   "cell_type": "markdown",
   "metadata": {},
   "source": [
    "## Visualization of Shortest Path\n",
    "Let's visualize the warehouse environment with shelves, starting point, item location, and the calculated shortest path."
   ]
  },
  {
   "cell_type": "code",
   "execution_count": null,
   "metadata": {},
   "outputs": [
    {
     "data": {
      "image/png": "[encoded data removed]",
      "text/plain": [
       "<Figure size 600x600 with 1 Axes>"
      ]
     },
     "metadata": {},
     "output_type": "display_data"
    }
   ],
   "source": [
    "# Plot the environment, shelves, and path\n",
    "colors = ['gray', 'white', 'green', 'red']\n",
    "cmap = ListedColormap(colors)\n",
    "\n",
    "grid = np.zeros((11, 11))\n",
    "for row in aisles:\n",
    "    for col in aisles[row]:\n",
    "        grid[row, col] = 0.5\n",
    "for shelf in shelves:\n",
    "    grid[shelf[0], shelf[1]] = 1  # Shelf location\n",
    "grid[robot_start[0], robot_start[1]] = 2  # Starting point\n",
    "grid[robot_end[0], robot_end[1]] = 3      # Ending point\n",
    "\n",
    "plt.figure(figsize=(6, 6))\n",
    "plt.imshow(grid, cmap=cmap, origin='upper', vmin=0, vmax=3)\n",
    "plt.xticks(range(11))\n",
    "plt.yticks(range(11))\n",
    "plt.title(\"Shortest Path\")\n",
    "\n",
    "path_coords = np.array(coordinate_path)\n",
    "plt.plot(path_coords[:, 1], path_coords[:, 0], marker='o', color='blue', label='Path')\n",
    "plt.legend()\n",
    "\n",
    "plt.grid(True, color='black', linewidth=0.5)\n",
    "plt.show()"
   ]
  }
 ],
 "metadata": {
  "kernelspec": {
   "display_name": "RL",
   "language": "python",
   "name": "python3"
  },
  "language_info": {
   "codemirror_mode": {
    "name": "ipython",
    "version": 3
   },
   "file_extension": ".py",
   "mimetype": "text/x-python",
   "name": "python",
   "nbconvert_exporter": "python",
   "pygments_lexer": "ipython3",
   "version": "3.9.16"
  },
  "orig_nbformat": 4
 },
 "nbformat": 4,
 "nbformat_minor": 2
}
