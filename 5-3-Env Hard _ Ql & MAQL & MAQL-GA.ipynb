{
 "cells": [
  {
   "cell_type": "markdown",
   "metadata": {},
   "source": [
    "# Path finding for a Multi-Order Picking Robot in a Distribution Center with a crowded area using Single-Agent Q-Learning, Multi-Agent Q-Learning (MAQL) and MAQL-GA \n",
    "\n",
    "Consider an e-commerce company has a distribution center, and the company would like all of the picking operations in the center to be performed by warehouse robots.\n",
    "* In the context of e-commerce warehousing, “picking” is the task of gathering individual items from various locations in the warehouse in order to fulfill customer orders.\n",
    "\n",
    "After picking items from the shelves, the robots must bring the items to a specific location within the warehouse where the items can be packaged for shipping (starting point).\n",
    "\n",
    "In order to ensure maximum efficiency and productivity, the robot will need to learn the shortest path between the item packaging area and all other locations within the warehouse where the robot is allowed to travel.\n",
    "\n",
    "#### Import Required Libraries"
   ]
  },
  {
   "cell_type": "code",
   "execution_count": 196,
   "metadata": {},
   "outputs": [],
   "source": [
    "#import libraries\n",
    "import numpy as np\n",
    "import matplotlib.pyplot as plt\n",
    "from matplotlib import colors\n",
    "from IPython.display import Image\n",
    "import random\n",
    "from tqdm import tqdm"
   ]
  },
  {
   "cell_type": "markdown",
   "metadata": {},
   "source": [
    "### Creating Classes\n",
    "In order to implement the multi-agent approach, we converted our function based code to a class based code. We created two classes: `Environment` and `Q_Agent`. "
   ]
  },
  {
   "cell_type": "markdown",
   "metadata": {},
   "source": [
    "## Define the Environment\n",
    "The environment consists of **states**, **actions**, and **rewards**. States and actions are inputs for the Q-learning AI agent, while the possible actions are the AI agent's outputs.\n",
    "#### States\n",
    "The states in the environment are all of the possible locations within the warehouse. Some of these locations are for storing items (**gray squares**), while other locations are aisles that the robot can use to travel throughout the warehouse (**white squares**) and (**pink squares**) are the crowded area where the robot should avoid. The **green squares** indicates the item loactions.\n",
    "\n",
    "The gray squares are **terminal states**!\n",
    "\n",
    "\n",
    "The AI agent's goal is to learn the shortest path between the item packaging area and all of the other locations in the warehouse where the robot is allowed to travel.\n",
    "\n",
    "As shown in the image above, there are 121 possible states (locations) within the warehouse. These states are arranged in a grid containing 11 rows and 11 columns. Each location can hence be identified by its row and column index."
   ]
  },
  {
   "cell_type": "markdown",
   "metadata": {},
   "source": [
    "#### Rewards\n",
    "The last component of the environment that we need to define are the **rewards**.\n",
    "\n",
    "To help the AI agent learn, each state (location) in the warehouse is assigned a reward value.\n",
    "\n",
    "The agent may begin at any white square, but its goal is always the same: ***to maximize its total rewards***!\n",
    "\n",
    "Negative rewards (i.e., **punishments**) are used for all states except the goal.\n",
    "* This encourages the AI to identify the *shortest path* to the goal by *minimizing its punishments*!\n",
    "\n",
    "To maximize its cumulative rewards (by minimizing its cumulative punishments), the AI agent will need find the shortest paths between the item locations (green squares) and all of the other locations in the warehouse where the robot is allowed to travel (white squares). (pink squares) are the crowded area and it is better that the robot does not pass through this area. The agent will also need to learn to avoid crashing into any of the item storage locations (gray squares)!"
   ]
  },
  {
   "cell_type": "markdown",
   "metadata": {},
   "source": [
    "### Environment Setup\n",
    "We define an Environment class to create and manage the distribution center environment. This class includes methods to initialize the environment, build the rewards map, reset active rewards, check if a state is terminal, and more."
   ]
  },
  {
   "cell_type": "code",
   "execution_count": 197,
   "metadata": {},
   "outputs": [],
   "source": [
    "class Environment:\n",
    "    def __init__(self, environment_rows=11, environment_columns=11, ORDER_REWARD=100,\n",
    "                 TERMINAL_PENALTY=-100, STEP_PENALTY=-1, START=(1,5), reward_locs=[(8,2),(2,7),(5,4),(8,7)]):\n",
    "        \n",
    "        self.environment_rows = environment_rows\n",
    "        self.environment_columns = environment_columns\n",
    "        self.ORDER_REWARD = ORDER_REWARD\n",
    "        self.TERMINAL_PENALTY = TERMINAL_PENALTY\n",
    "        self.STEP_PENALTY = STEP_PENALTY\n",
    "        self.START = START\n",
    "        self.reward_locs = reward_locs.copy() # rewards loc is a list, which is mutable, so we need to make a copy\n",
    "                                                # otherwise, the original list will be changed when we change the copy\n",
    "        self.reward_locs.append(START)\n",
    "        self.NUM_ORDERS = len(self.reward_locs)\n",
    "        self.orders_left = self.NUM_ORDERS        \n",
    "\n",
    "        # Call the build_environment function to initialize rewards\n",
    "        self.REWARDS_MAP = self.build_environment(self.reward_locs.copy()) # map of rewards that will not be updated, used for plotting\n",
    "        self.active_rewrads = self.REWARDS_MAP.copy() # copy of rewards map that will be updated as orders are completed\n",
    "        \n",
    "\n",
    "    def build_environment(self, reward_locs):\n",
    "        \"\"\"Builds the rewards map based on the given reward locations\"\"\"\n",
    "        # Create a 2D numpy array to hold the rewards for each state.\n",
    "        rewards = np.full((self.environment_rows, self.environment_columns), self.TERMINAL_PENALTY)\n",
    "\n",
    "        # Define aisle locations (i.e., white squares) for rows 1 through 9\n",
    "        aisles = {}\n",
    "        aisles[0] = []\n",
    "        aisles[1] = [i for i in range(1, 10)]\n",
    "        aisles[2] = [1, 5, 9]\n",
    "        aisles[3] = [1, 5, 9]\n",
    "        aisles[4] = [i for i in range(1, 10)]\n",
    "        aisles[5] = [1, 5, 9]\n",
    "        aisles[6] = [i for i in range(1, 10)]\n",
    "        aisles[7] = [1, 5, 9]\n",
    "        aisles[8] = [1, 5, 9]\n",
    "        aisles[9] = [i for i in range(1, 10)]\n",
    "        aisles[10] = []\n",
    "\n",
    "        # Set the rewards for all aisle locations (i.e., white squares)\n",
    "        for row_index in range(0, 11):\n",
    "            for column_index in aisles[row_index]:\n",
    "                rewards[row_index, column_index] = self.STEP_PENALTY\n",
    "\n",
    "        # Set the reward for the packaging area (i.e., the goal) to ORDER_REWARD\n",
    "        for loc in reward_locs[:-1]:\n",
    "            rewards[loc[0], loc[1]] = self.ORDER_REWARD\n",
    "        \n",
    "        # Set the rewards for crowded locations (i.e., pink squares)\n",
    "        rewards[4, 5] = -10\n",
    "        rewards[5, 5] = -50\n",
    "        rewards[6, 5] = -10\n",
    "        \n",
    "        \n",
    "        \n",
    "        return rewards\n",
    "\n",
    "    def reset_active_rewards(self):\n",
    "        \"\"\"Resets the active rewards map to the original rewards map, and resets the number of orders left\"\"\"\n",
    "        self.active_rewrads = self.REWARDS_MAP.copy()\n",
    "        self.orders_left = self.NUM_ORDERS    \n",
    "        \n",
    "    def is_terminal_state(self, current_row_index, current_column_index):\n",
    "        if self.active_rewrads[current_row_index, current_column_index] == self.TERMINAL_PENALTY:\n",
    "            return True\n",
    "        else:\n",
    "            return False\n",
    "    \n",
    "    def is_order_state(self, current_row_index, current_column_index, alter_rewards=True):\n",
    "        \"\"\"Returns True if the current state is an order state, False otherwise\n",
    "        \n",
    "        Also removes the order from the active rewards map, and updates the number of orders left\n",
    "        \n",
    "        \"\"\"\n",
    "\n",
    "        if self.active_rewrads[current_row_index, current_column_index] == self.ORDER_REWARD:\n",
    "            if alter_rewards:\n",
    "                self.active_rewrads[current_row_index, current_column_index] = self.STEP_PENALTY\n",
    "                self.orders_left -= 1\n",
    "                #print(\"Order completed! Orders left: \", self.orders_left)\n",
    "                if self.orders_left == 1:\n",
    "                    self.active_rewrads[self.START[0], self.START[1]] = self.ORDER_REWARD\n",
    "                return True\n",
    "            else:\n",
    "                return True\n",
    "        else:\n",
    "            return False\n",
    "    \n",
    "    \n",
    "    def get_starting_location(self):\n",
    "        '''Returns the starting location for the agent in the environment'''\n",
    "        return self.START[0], self.START[1]\n",
    "        \n"
   ]
  },
  {
   "cell_type": "markdown",
   "metadata": {},
   "source": [
    "#### define the shape of the environment (i.e., its states)"
   ]
  },
  {
   "cell_type": "code",
   "execution_count": 198,
   "metadata": {},
   "outputs": [],
   "source": [
    "environment_rows = 11\n",
    "environment_columns = 11\n",
    "ORDER_REWARD = 100\n",
    "TERMINAL_PENALTY = -100\n",
    "STEP_PENALTY = -1\n",
    "START = (1,5)\n",
    "reward_locs = [(8,2),(2,7),(5,4),(8,7)]\n"
   ]
  },
  {
   "cell_type": "markdown",
   "metadata": {},
   "source": [
    "## Initialize the Environment class"
   ]
  },
  {
   "cell_type": "code",
   "execution_count": 199,
   "metadata": {},
   "outputs": [
    {
     "data": {
      "text/plain": [
       "<matplotlib.colorbar.Colorbar at 0x1f87a9c65b0>"
      ]
     },
     "execution_count": 199,
     "metadata": {},
     "output_type": "execute_result"
    },
    {
     "data": {
      "image/png": "[encoded data removed]",
      "text/plain": [
       "<Figure size 640x480 with 2 Axes>"
      ]
     },
     "metadata": {},
     "output_type": "display_data"
    }
   ],
   "source": [
    "env = Environment(environment_rows, environment_columns, ORDER_REWARD, TERMINAL_PENALTY, STEP_PENALTY, START, reward_locs)\n",
    "\n",
    "# You can access the rewards array using env.rewards\n",
    "plt.imshow(env.REWARDS_MAP, cmap='hot', interpolation='nearest')\n",
    "plt.colorbar()"
   ]
  },
  {
   "cell_type": "code",
   "execution_count": 200,
   "metadata": {},
   "outputs": [
    {
     "data": {
      "text/plain": [
       "5"
      ]
     },
     "execution_count": 200,
     "metadata": {},
     "output_type": "execute_result"
    }
   ],
   "source": [
    "env.NUM_ORDERS"
   ]
  },
  {
   "cell_type": "code",
   "execution_count": 201,
   "metadata": {},
   "outputs": [
    {
     "data": {
      "text/plain": [
       "[(8, 2), (2, 7), (5, 4), (8, 7), (1, 5)]"
      ]
     },
     "execution_count": 201,
     "metadata": {},
     "output_type": "execute_result"
    }
   ],
   "source": [
    "env.reward_locs\n"
   ]
  },
  {
   "cell_type": "code",
   "execution_count": 202,
   "metadata": {},
   "outputs": [
    {
     "data": {
      "text/plain": [
       "<matplotlib.image.AxesImage at 0x1f87af95910>"
      ]
     },
     "execution_count": 202,
     "metadata": {},
     "output_type": "execute_result"
    },
    {
     "data": {
      "image/png": "[encoded data removed]",
      "text/plain": [
       "<Figure size 640x480 with 1 Axes>"
      ]
     },
     "metadata": {},
     "output_type": "display_data"
    }
   ],
   "source": [
    "# You can access the rewards array using env.rewards\n",
    "plt.imshow(env.active_rewrads, cmap='hot', interpolation='nearest')"
   ]
  },
  {
   "cell_type": "markdown",
   "metadata": {},
   "source": [
    "### Visualize the rewards map"
   ]
  },
  {
   "cell_type": "code",
   "execution_count": null,
   "metadata": {},
   "outputs": [],
   "source": []
  },
  {
   "cell_type": "code",
   "execution_count": 203,
   "metadata": {},
   "outputs": [
    {
     "data": {
      "image/png": "[encoded data removed]",
      "text/plain": [
       "<Figure size 640x480 with 1 Axes>"
      ]
     },
     "metadata": {},
     "output_type": "display_data"
    }
   ],
   "source": [
    "plt.figure()\n",
    "colormap = colors.ListedColormap([\"gray\",\"pink\",\"white\",\"black\",\"green\"])\n",
    "im = plt.imshow(env.active_rewrads, cmap= colormap)\n",
    "\n",
    "ax = plt.gca()\n",
    "\n",
    "# Major ticks\n",
    "ax.set_xticks(np.arange(0, 11, 1))\n",
    "ax.set_yticks(np.arange(0, 11, 1))\n",
    "\n",
    "# Labels for major ticks\n",
    "ax.set_xticklabels(np.arange(0, 11, 1))\n",
    "ax.set_yticklabels(np.arange(0, 11, 1))\n",
    "\n",
    "# Minor ticks\n",
    "ax.set_xticks(np.arange(-.5, 10, 1), minor=True)\n",
    "ax.set_yticks(np.arange(-.5, 10, 1), minor=True)\n",
    "\n",
    "# Let the horizontal axes labeling appear on top.\n",
    "ax.tick_params(top=True, bottom=False,\n",
    "                   labeltop=True, labelbottom=False)\n",
    "\n",
    "for i in range(0,11):\n",
    "    for j in range(0,11):\n",
    "        text = ax.text(j, i, env.active_rewrads[i, j],\n",
    "                       ha=\"center\", va=\"center\", color=\"black\", fontsize=7)\n",
    "\n",
    "# Gridlines based on minor ticks\n",
    "ax.grid(which='minor', color='black', linestyle='-', linewidth=2)\n",
    "\n",
    "# Remove minor ticks\n",
    "ax.tick_params(which='minor', bottom=False, left=False)\n",
    "\n",
    "\n",
    "ax.set_title(\"Distribution Center Map Hard\")\n",
    "plt.show()\n",
    "# plt.savefig('Distribution-Center-Map-Hard.jpg')"
   ]
  },
  {
   "cell_type": "code",
   "execution_count": 204,
   "metadata": {},
   "outputs": [
    {
     "data": {
      "text/plain": [
       "True"
      ]
     },
     "execution_count": 204,
     "metadata": {},
     "output_type": "execute_result"
    }
   ],
   "source": [
    "env.is_order_state(8,2) "
   ]
  },
  {
   "cell_type": "code",
   "execution_count": 205,
   "metadata": {},
   "outputs": [],
   "source": [
    "env.reset_active_rewards()"
   ]
  },
  {
   "cell_type": "code",
   "execution_count": 206,
   "metadata": {},
   "outputs": [
    {
     "data": {
      "text/plain": [
       "<matplotlib.image.AxesImage at 0x1f87abb5eb0>"
      ]
     },
     "execution_count": 206,
     "metadata": {},
     "output_type": "execute_result"
    },
    {
     "data": {
      "image/png": "[encoded data removed]",
      "text/plain": [
       "<Figure size 640x480 with 1 Axes>"
      ]
     },
     "metadata": {},
     "output_type": "display_data"
    }
   ],
   "source": [
    "# You can access the rewards array using env.rewards\n",
    "plt.imshow(env.active_rewrads, cmap='hot', interpolation='nearest')"
   ]
  },
  {
   "cell_type": "code",
   "execution_count": 207,
   "metadata": {},
   "outputs": [
    {
     "data": {
      "text/plain": [
       "False"
      ]
     },
     "execution_count": 207,
     "metadata": {},
     "output_type": "execute_result"
    }
   ],
   "source": [
    "env.is_terminal_state(1,1)"
   ]
  },
  {
   "cell_type": "code",
   "execution_count": 208,
   "metadata": {},
   "outputs": [
    {
     "data": {
      "text/plain": [
       "array([[ 0.06285245,  0.07077047,  0.02817376,  0.03138641],\n",
       "       [-0.09140124, -0.01892234, -0.07497422,  0.03609413],\n",
       "       [ 0.05542962, -0.07801268,  0.01581386,  0.00947608],\n",
       "       [-0.02283381,  0.05275188,  0.01634859,  0.09058131]])"
      ]
     },
     "execution_count": 208,
     "metadata": {},
     "output_type": "execute_result"
    }
   ],
   "source": [
    "(np.random.random((4,4)) * 2 - 1) /10"
   ]
  },
  {
   "cell_type": "markdown",
   "metadata": {},
   "source": [
    "## Train the Model\n",
    "Our next task is for our AI agent to learn about its environment by implementing a Q-learning model."
   ]
  },
  {
   "cell_type": "markdown",
   "metadata": {},
   "source": [
    "#### Actions\n",
    "The actions that are available to the AI agent are to move the robot in one of four directions:\n",
    "* Up\n",
    "* Right\n",
    "* Down\n",
    "* Left"
   ]
  },
  {
   "cell_type": "markdown",
   "metadata": {},
   "source": [
    "## Q-Learning Agent\n",
    "We define a QLearningAgent class for the robot's Q-learning. This class handles the agent's initialization, action selection, state transition, and Q-value updates."
   ]
  },
  {
   "cell_type": "code",
   "execution_count": 209,
   "metadata": {},
   "outputs": [],
   "source": [
    "import numpy as np\n",
    "from typing import Any, Type\n",
    "from tqdm import tqdm\n",
    "\n",
    "class QLearningAgent:\n",
    "    def __init__(self,environment_rows=11, environment_columns=11,ORDER_REWARD=100, TERMINAL_PENALTY=-100,\n",
    "                 STEP_PENALTY=-1, START=(1,5), reward_locs=[(8,2),(2,7),(5,4),(8,7)],actions=('up', 'right', 'down', 'left')):\n",
    "        \n",
    "        self.env = Environment(environment_rows, environment_columns,ORDER_REWARD, TERMINAL_PENALTY, STEP_PENALTY, START, reward_locs.copy())\n",
    "        # Initialize the Q-values to random numbers between -0.1 and 0.1\n",
    "        self.q_values = np.random.random((self.env.NUM_ORDERS, environment_rows, environment_columns, 4)) * 2 - 1\n",
    "        self.q_values = self.q_values / 10\n",
    "        self.environment_rows = environment_rows\n",
    "        self.environment_columns = environment_columns\n",
    "        self.actions = actions\n",
    "\n",
    "\n",
    "    def get_next_action(self, current_row_index, current_column_index, epsilon, order_number):\n",
    "        if np.random.random() < epsilon:\n",
    "            return np.argmax(self.q_values[order_number, current_row_index, current_column_index])\n",
    "        else:\n",
    "            return np.random.randint(4)\n",
    "\n",
    "    def get_next_location(self, current_row_index, current_column_index, action_index):\n",
    "        new_row_index = current_row_index\n",
    "        new_column_index = current_column_index\n",
    "        if self.actions[action_index] == 'up' and current_row_index > 0:\n",
    "            new_row_index -= 1\n",
    "        elif self.actions[action_index] == 'right' and current_column_index < self.environment_columns - 1:\n",
    "            new_column_index += 1\n",
    "        elif self.actions[action_index] == 'down' and current_row_index < self.environment_rows - 1:\n",
    "            new_row_index += 1\n",
    "        elif self.actions[action_index] == 'left' and current_column_index > 0:\n",
    "            new_column_index -= 1\n",
    "        else:\n",
    "            raise Exception(f\"Invalid action {action_index}\")\n",
    "        return new_row_index, new_column_index\n",
    "    \n",
    "    def get_shortest_path(self, verbose=True):\n",
    "        self.env.reset_active_rewards()\n",
    "        shortest_path = []\n",
    "        reward_sum = 0\n",
    "        if self.env.is_terminal_state(self.env.START[0], self.env.START[1]) or self.env.is_order_state(self.env.START[0], self.env.START[1], alter_rewards=False):\n",
    "            print(f\"START: {self.env.START} | Terminal State: {self.env.is_terminal_state(self.env.START[0], self.env.START[1])} | Order State: {self.env.is_order_state(self.env.START[0], self.env.START[1], alter_rewards=False)}\")\n",
    "            print(f\"Rwards: {self.env.active_rewrads[self.env.START[0], self.env.START[1]]}\")\n",
    "            raise Exception(\"The starting location cannot be a terminal state or an order state!\")\n",
    "        current_row_index, current_column_index = self.env.get_starting_location()\n",
    "        shortest_path.append((current_row_index, current_column_index))\n",
    "        reward_sum += self.env.active_rewrads[current_row_index, current_column_index]\n",
    "        while not self.env.is_terminal_state(current_row_index, current_column_index) and self.env.orders_left > 0:\n",
    "            order_number = self.env.NUM_ORDERS - self.env.orders_left # order number is the number of orders completed so far which is the index of the current order and defines the q_values layer to use\n",
    "            action_index = self.get_next_action(current_row_index, current_column_index,1.0, order_number)\n",
    "            current_row_index, current_column_index = self.get_next_location(current_row_index, current_column_index, action_index)\n",
    "            shortest_path.append((current_row_index, current_column_index))\n",
    "            reward_sum += self.env.active_rewrads[current_row_index, current_column_index]\n",
    "            self.env.is_order_state(current_row_index, current_column_index) # this will remove the order from the active rewards map\n",
    "            \n",
    "            if len(shortest_path) > 500:\n",
    "                if verbose:\n",
    "                    print(\"Infinite loop! Something is wrong\")\n",
    "                break\n",
    "        return shortest_path, reward_sum\n",
    "    \n",
    "    def fitness_score(self, verbose=False):\n",
    "        shortest_path, reward_sum = self.get_shortest_path(verbose=verbose)\n",
    "        return reward_sum\n",
    "    \n",
    "    def train(self, num_episodes, epsilon, discount_factor, learning_rate, change_w_gamma=False, verbose = True):\n",
    "        \"\"\" Train the Q-learning agent\n",
    "        Inputs:\n",
    "            num_episodes: Number of episodes to use for training\n",
    "            epsilon: The probability of choosing a random action (between 0 and 1)\n",
    "            discount_factor: Discount factor for future rewards\n",
    "            learning_rate: The step size to use for updating the Q-values\n",
    "            change_w_gamma: If True, the learning rate and epsilon will change with gamma throughout training (default False)\n",
    "        returns:\n",
    "            episode_rewards_list: List containing the rewards obtained in each episode during training\n",
    "        \"\"\"\n",
    "        self.env.reset_active_rewards()\n",
    "        gamma = 1-(1 / (num_episodes/2))\n",
    "        progress_bar = tqdm(range(num_episodes), desc=\"Training Progress\", unit=\"Episode\", disable=not verbose)\n",
    "        self.zero_order_hit_count = 0\n",
    "        one_order_hit_count = 0\n",
    "        episode_rewards_list = []\n",
    "        for episode in progress_bar:\n",
    "            self.env.reset_active_rewards()\n",
    "            episode_rewards_sum = 0\n",
    "            row_index, column_index = self.env.get_starting_location()\n",
    "            \n",
    "            while not self.env.is_terminal_state(row_index, column_index) and self.env.orders_left > 0:\n",
    "                order_number = self.env.NUM_ORDERS - self.env.orders_left\n",
    "                action_index = self.get_next_action(row_index, column_index,epsilon, order_number=order_number)\n",
    "                \n",
    "                old_row_index, old_column_index = row_index, column_index # store the old row and column indexes\n",
    "                row_index, column_index = self.get_next_location(row_index, column_index, action_index)\n",
    "                \n",
    "                reward = self.env.active_rewrads[row_index, column_index]\n",
    "                episode_rewards_sum += reward\n",
    "                \n",
    "                old_q_value = self.q_values[order_number, old_row_index, old_column_index, action_index]\n",
    "                temporal_difference = reward + (discount_factor * np.max(self.q_values[order_number, row_index, column_index])) - old_q_value\n",
    "                new_q_value = old_q_value + (learning_rate * temporal_difference)\n",
    "                self.q_values[order_number, old_row_index, old_column_index, action_index] = new_q_value\n",
    "                \n",
    "                if self.env.is_order_state(row_index, column_index):\n",
    "                    if self.env.orders_left == 0:\n",
    "                        self.zero_order_hit_count += 1\n",
    "                    elif self.env.orders_left == 1:\n",
    "                        one_order_hit_count += 1\n",
    "                \n",
    "            episode_rewards_list.append(episode_rewards_sum)\n",
    "            \n",
    "            if change_w_gamma:\n",
    "                learning_rate = max(learning_rate * gamma, 0.01)\n",
    "                epsilon = min(epsilon * (2-gamma), 0.9)\n",
    "\n",
    "            progress_bar.set_postfix({\"Ord left\": self.env.orders_left, \"lr\": learning_rate, \"Eps\": epsilon,\n",
    "                                      \"0 Order\":self.zero_order_hit_count, \"1 Order\":one_order_hit_count})\n",
    "        \n",
    "        progress_bar.close()\n",
    "        return episode_rewards_list\n",
    "            \n",
    "        \n",
    "\n"
   ]
  },
  {
   "cell_type": "markdown",
   "metadata": {},
   "source": [
    "## Initialize the Q-learning agent\n",
    "We initialize the Q-learning agent and perform training:"
   ]
  },
  {
   "cell_type": "code",
   "execution_count": 210,
   "metadata": {},
   "outputs": [
    {
     "data": {
      "text/plain": [
       "(5, 11, 11, 4)"
      ]
     },
     "execution_count": 210,
     "metadata": {},
     "output_type": "execute_result"
    }
   ],
   "source": [
    "agent = QLearningAgent(environment_rows, environment_columns, ORDER_REWARD, TERMINAL_PENALTY, STEP_PENALTY, START, reward_locs)\n",
    "agent.q_values.shape"
   ]
  },
  {
   "cell_type": "code",
   "execution_count": 211,
   "metadata": {},
   "outputs": [
    {
     "name": "stderr",
     "output_type": "stream",
     "text": [
      "Training Progress: 100%|██████████| 10000/10000 [00:07<00:00, 1358.36Episode/s, Ord left=3, lr=0.9, Eps=0.9, 0 Order=983, 1 Order=2173]\n"
     ]
    }
   ],
   "source": [
    "reward_per_episode_list = agent.train(num_episodes=10000, epsilon=0.9, discount_factor=0.9, learning_rate=0.9, verbose=True)"
   ]
  },
  {
   "cell_type": "code",
   "execution_count": 212,
   "metadata": {},
   "outputs": [
    {
     "data": {
      "text/plain": [
       "458"
      ]
     },
     "execution_count": 212,
     "metadata": {},
     "output_type": "execute_result"
    }
   ],
   "source": [
    "agent.fitness_score()"
   ]
  },
  {
   "cell_type": "code",
   "execution_count": 213,
   "metadata": {},
   "outputs": [
    {
     "data": {
      "text/plain": [
       "<matplotlib.image.AxesImage at 0x1f87933e0a0>"
      ]
     },
     "execution_count": 213,
     "metadata": {},
     "output_type": "execute_result"
    },
    {
     "data": {
      "image/png": "[encoded data removed]",
      "text/plain": [
       "<Figure size 640x480 with 1 Axes>"
      ]
     },
     "metadata": {},
     "output_type": "display_data"
    }
   ],
   "source": [
    "plt.imshow(agent.env.active_rewrads, cmap='hot', interpolation='nearest')"
   ]
  },
  {
   "cell_type": "code",
   "execution_count": 214,
   "metadata": {},
   "outputs": [
    {
     "data": {
      "text/plain": [
       "100"
      ]
     },
     "execution_count": 214,
     "metadata": {},
     "output_type": "execute_result"
    }
   ],
   "source": [
    "agent.env.ORDER_REWARD"
   ]
  },
  {
   "cell_type": "code",
   "execution_count": 215,
   "metadata": {},
   "outputs": [],
   "source": [
    "shortest_path = agent.get_shortest_path()"
   ]
  },
  {
   "cell_type": "code",
   "execution_count": 216,
   "metadata": {},
   "outputs": [
    {
     "name": "stdout",
     "output_type": "stream",
     "text": [
      "Path:  [(1, 5), (1, 6), (1, 7), (2, 7), (1, 7), (1, 6), (1, 5), (1, 4), (1, 3), (1, 2), (1, 1), (2, 1), (3, 1), (4, 1), (4, 2), (4, 3), (4, 4), (5, 4), (6, 4), (6, 3), (6, 2), (6, 1), (7, 1), (8, 1), (8, 2), (9, 2), (9, 3), (9, 4), (9, 5), (9, 6), (9, 7), (8, 7), (9, 7), (9, 8), (9, 9), (8, 9), (7, 9), (6, 9), (5, 9), (4, 9), (3, 9), (2, 9), (1, 9), (1, 8), (1, 7), (1, 6), (1, 5)] \n",
      "RewardSum:  458\n"
     ]
    }
   ],
   "source": [
    "print(\"Path: \",shortest_path[0], \"\\nRewardSum: \", shortest_path[1])"
   ]
  },
  {
   "cell_type": "markdown",
   "metadata": {},
   "source": [
    "## Genetic Training for QLGA\n",
    "Each agent has its own Q-Table and is trying to find the optimal path. These agents share their Q-Tables with each other, through a Genetic Algorithm. After a certain number of episodes, `E`, we combine the Q-Tables of the agents and use the `Genetic Algorithm`.\n",
    "We define a GeneticTraining class to perform genetic training for Q-learning agents. This class handles the genetic algorithm operations, including selection, crossover, and mutation."
   ]
  },
  {
   "cell_type": "code",
   "execution_count": 217,
   "metadata": {},
   "outputs": [],
   "source": [
    "class GeneticTraining:\n",
    "    def __init__(self, population=10, num_episodes=1000, epsilon=0.9, discount_factor=0.9, learning_rate=0.1):\n",
    "        self.population = population\n",
    "        self.num_episodes = num_episodes\n",
    "        self.epsilon = epsilon\n",
    "        self.discount_factor = discount_factor\n",
    "        self.learning_rate = learning_rate\n",
    "        self.agents = [QLearningAgent() for _ in range(population)]\n",
    "        self.agent_q_table_shape = self.agents[0].q_values.shape\n",
    "        self.best_agent = None\n",
    "        self.best_reward = -10000 # initialize with a very low value so that the first agent will be the best\n",
    "        self.best_agent_index = None\n",
    "        self.best_agent_shortest_path = None\n",
    "        self.best_reward_history = []\n",
    "    \n",
    "    def agents_fitness_score(self, agents):\n",
    "        fitness_list = [agent.fitness_score() for agent in agents]\n",
    "        return fitness_list.copy()\n",
    "    \n",
    "    def selection(self, agents):\n",
    "        \"\"\"commonly known as roulette wheel selection or fitness-proportionate selection\n",
    "        in a genetic algorithm. It is a way to select individuals from a population with\n",
    "        a probability that is proportional to their fitness scores.\"\"\"\n",
    "        fitness_list = self.agents_fitness_score(agents)\n",
    "        fitness_array = np.array(fitness_list, dtype=np.float64)\n",
    "        if np.min(fitness_array) < 0: # to avoid negative fitness values, which consequently will cause negative probabilities.\n",
    "            fitness_array -= (np.min(fitness_array) * 2)\n",
    "            \n",
    "        if np.sum(fitness_array) == 0:\n",
    "            fitness_array += 0.001\n",
    "        normalized_probabilities = fitness_array / (np.sum(fitness_array)) # add a small value to avoid zero probabilities\n",
    "        parents = np.random.choice(agents, size=2, replace=False, p=normalized_probabilities)\n",
    "        return parents\n",
    "    \n",
    "    def crossover(self, parents, mean_parents = True)-> QLearningAgent:\n",
    "        child = QLearningAgent()\n",
    "        if mean_parents:\n",
    "            child.q_values = (parents[0].q_values + parents[1].q_values) / 2\n",
    "        else:\n",
    "            crossover_point = np.random.randint(2, size = self.agent_q_table_shape[:-1])\n",
    "            crossover_point = np.stack([crossover_point] * self.agent_q_table_shape[-1], axis=-1)\n",
    "            child_q_values = np.where(crossover_point == 1, parents[0].q_values, parents[1].q_values)\n",
    "            child.q_values = child_q_values\n",
    "        return child\n",
    "    \n",
    "    def mutation(self, child: Type[QLearningAgent], mutation_prob=0.2)-> QLearningAgent:\n",
    "        mutation_point = np.random.choice([0,1], size = self.agent_q_table_shape[:-1], p=[1-mutation_prob, mutation_prob])\n",
    "        mutation_point = np.stack([mutation_point] * self.agent_q_table_shape[-1], axis=-1)\n",
    "        \n",
    "        max_gene_value = np.max(child.q_values)\n",
    "        min_gene_value = np.min(child.q_values)\n",
    "        \n",
    "        # print(f\"max_gene_value: {max_gene_value} | min_gene_value: {min_gene_value}\")\n",
    "        \n",
    "        mutation_value = np.random.uniform(low=min_gene_value, high=max_gene_value, size=self.agent_q_table_shape)\n",
    "        child.q_values = np.where(mutation_point == 1, mutation_value, child.q_values)\n",
    "        return child\n",
    "    \n",
    "    def genetic_algorithm(self, agents_list, parents_to_keep_ratio=0.5, mutation_prob=0.0):\n",
    "        agents_list = sorted(agents_list, key=lambda agent: agent.fitness_score(), reverse=True)\n",
    "        num_parents_to_keep = int(len(agents_list) * parents_to_keep_ratio)\n",
    "        num_childs_to_create = len(agents_list) - num_parents_to_keep\n",
    "        childs_list = []\n",
    "        for _ in range(num_childs_to_create):\n",
    "            parents = self.selection(agents_list)\n",
    "            child = self.crossover(parents)\n",
    "            if mutation_prob > 0.0:\n",
    "                child = self.mutation(child, mutation_prob)\n",
    "            childs_list.append(child)\n",
    "            \n",
    "        agents_list = agents_list[:num_parents_to_keep] + childs_list\n",
    "        \n",
    "        return agents_list\n",
    "        \n",
    "    \n",
    "    \n",
    "    def train(self, episodes = 500, q_learning_episodes = 10, use_genetic_algorithm=True):\n",
    "        if episodes % q_learning_episodes != 0:\n",
    "            raise Exception(\"episodes must be divisible by q_learning_step\")\n",
    "        # call the .tarin() method of each agent for q_learning_step times\n",
    "        steps = episodes // q_learning_episodes\n",
    "        progress_bar = tqdm(range(steps), desc=\"Training Progress\", unit=\"Step\")\n",
    "        for step in progress_bar:\n",
    "            for agent in self.agents:\n",
    "                agent.train(num_episodes=q_learning_episodes, epsilon=self.epsilon,\n",
    "                            discount_factor=self.discount_factor, learning_rate=self.learning_rate, verbose=False)\n",
    "            if use_genetic_algorithm:    \n",
    "                self.agents = self.genetic_algorithm(self.agents)\n",
    "            \n",
    "            fitness_list = self.agents_fitness_score(self.agents)\n",
    "            best_agent_index = np.argmax(fitness_list)\n",
    "            best_in_list = fitness_list[best_agent_index]\n",
    "            if self.best_reward < best_in_list:\n",
    "                self.best_reward = best_in_list\n",
    "                self.best_agent = self.agents[best_agent_index]\n",
    "                self.best_reward_history.append((step, self.best_reward))\n",
    "            \n",
    "                progress_bar.set_postfix({\"(Step, Best Reward)\": (step,self.best_reward)})\n",
    "        \n",
    "\n",
    "        "
   ]
  },
  {
   "cell_type": "markdown",
   "metadata": {},
   "source": [
    "## Initialize genetic training\n",
    "We initialize genetic training and perform training:"
   ]
  },
  {
   "cell_type": "code",
   "execution_count": 218,
   "metadata": {},
   "outputs": [
    {
     "name": "stderr",
     "output_type": "stream",
     "text": [
      "Training Progress: 100%|██████████| 100/100 [00:53<00:00,  1.87Step/s, (Step, Best Reward)=(98, 455)]\n"
     ]
    }
   ],
   "source": [
    "gt = GeneticTraining(population=20)\n",
    "gt.train(episodes=1000, q_learning_episodes=10, use_genetic_algorithm=True)"
   ]
  },
  {
   "cell_type": "markdown",
   "metadata": {},
   "source": [
    "## Get Shortest Path"
   ]
  },
  {
   "cell_type": "code",
   "execution_count": 219,
   "metadata": {},
   "outputs": [
    {
     "name": "stdout",
     "output_type": "stream",
     "text": [
      "Infinite loop! Something is wrong\n",
      "([(1, 5), (1, 6), (1, 7), (2, 7), (1, 7), (1, 6), (1, 5), (2, 5), (3, 5), (4, 5), (4, 4), (5, 4), (6, 4), (6, 3), (6, 2), (6, 1), (7, 1), (8, 1), (8, 2), (9, 2), (9, 3), (9, 4), (9, 5), (9, 6), (9, 7), (8, 7), (9, 7), (8, 7), (9, 7), (8, 7), (9, 7), (8, 7), (9, 7), (8, 7), (9, 7), (8, 7), (9, 7), (8, 7), (9, 7), (8, 7), (9, 7), (8, 7), (9, 7), (8, 7), (9, 7), (8, 7), (9, 7), (8, 7), (9, 7), (8, 7), (9, 7), (8, 7), (9, 7), (8, 7), (9, 7), (8, 7), (9, 7), (8, 7), (9, 7), (8, 7), (9, 7), (8, 7), (9, 7), (8, 7), (9, 7), (8, 7), (9, 7), (8, 7), (9, 7), (8, 7), (9, 7), (8, 7), (9, 7), (8, 7), (9, 7), (8, 7), (9, 7), (8, 7), (9, 7), (8, 7), (9, 7), (8, 7), (9, 7), (8, 7), (9, 7), (8, 7), (9, 7), (8, 7), (9, 7), (8, 7), (9, 7), (8, 7), (9, 7), (8, 7), (9, 7), (8, 7), (9, 7), (8, 7), (9, 7), (8, 7), (9, 7), (8, 7), (9, 7), (8, 7), (9, 7), (8, 7), (9, 7), (8, 7), (9, 7), (8, 7), (9, 7), (8, 7), (9, 7), (8, 7), (9, 7), (8, 7), (9, 7), (8, 7), (9, 7), (8, 7), (9, 7), (8, 7), (9, 7), (8, 7), (9, 7), (8, 7), (9, 7), (8, 7), (9, 7), (8, 7), (9, 7), (8, 7), (9, 7), (8, 7), (9, 7), (8, 7), (9, 7), (8, 7), (9, 7), (8, 7), (9, 7), (8, 7), (9, 7), (8, 7), (9, 7), (8, 7), (9, 7), (8, 7), (9, 7), (8, 7), (9, 7), (8, 7), (9, 7), (8, 7), (9, 7), (8, 7), (9, 7), (8, 7), (9, 7), (8, 7), (9, 7), (8, 7), (9, 7), (8, 7), (9, 7), (8, 7), (9, 7), (8, 7), (9, 7), (8, 7), (9, 7), (8, 7), (9, 7), (8, 7), (9, 7), (8, 7), (9, 7), (8, 7), (9, 7), (8, 7), (9, 7), (8, 7), (9, 7), (8, 7), (9, 7), (8, 7), (9, 7), (8, 7), (9, 7), (8, 7), (9, 7), (8, 7), (9, 7), (8, 7), (9, 7), (8, 7), (9, 7), (8, 7), (9, 7), (8, 7), (9, 7), (8, 7), (9, 7), (8, 7), (9, 7), (8, 7), (9, 7), (8, 7), (9, 7), (8, 7), (9, 7), (8, 7), (9, 7), (8, 7), (9, 7), (8, 7), (9, 7), (8, 7), (9, 7), (8, 7), (9, 7), (8, 7), (9, 7), (8, 7), (9, 7), (8, 7), (9, 7), (8, 7), (9, 7), (8, 7), (9, 7), (8, 7), (9, 7), (8, 7), (9, 7), (8, 7), (9, 7), (8, 7), (9, 7), (8, 7), (9, 7), (8, 7), (9, 7), (8, 7), (9, 7), (8, 7), (9, 7), (8, 7), (9, 7), (8, 7), (9, 7), (8, 7), (9, 7), (8, 7), (9, 7), (8, 7), (9, 7), (8, 7), (9, 7), (8, 7), (9, 7), (8, 7), (9, 7), (8, 7), (9, 7), (8, 7), (9, 7), (8, 7), (9, 7), (8, 7), (9, 7), (8, 7), (9, 7), (8, 7), (9, 7), (8, 7), (9, 7), (8, 7), (9, 7), (8, 7), (9, 7), (8, 7), (9, 7), (8, 7), (9, 7), (8, 7), (9, 7), (8, 7), (9, 7), (8, 7), (9, 7), (8, 7), (9, 7), (8, 7), (9, 7), (8, 7), (9, 7), (8, 7), (9, 7), (8, 7), (9, 7), (8, 7), (9, 7), (8, 7), (9, 7), (8, 7), (9, 7), (8, 7), (9, 7), (8, 7), (9, 7), (8, 7), (9, 7), (8, 7), (9, 7), (8, 7), (9, 7), (8, 7), (9, 7), (8, 7), (9, 7), (8, 7), (9, 7), (8, 7), (9, 7), (8, 7), (9, 7), (8, 7), (9, 7), (8, 7), (9, 7), (8, 7), (9, 7), (8, 7), (9, 7), (8, 7), (9, 7), (8, 7), (9, 7), (8, 7), (9, 7), (8, 7), (9, 7), (8, 7), (9, 7), (8, 7), (9, 7), (8, 7), (9, 7), (8, 7), (9, 7), (8, 7), (9, 7), (8, 7), (9, 7), (8, 7), (9, 7), (8, 7), (9, 7), (8, 7), (9, 7), (8, 7), (9, 7), (8, 7), (9, 7), (8, 7), (9, 7), (8, 7), (9, 7), (8, 7), (9, 7), (8, 7), (9, 7), (8, 7), (9, 7), (8, 7), (9, 7), (8, 7), (9, 7), (8, 7), (9, 7), (8, 7), (9, 7), (8, 7), (9, 7), (8, 7), (9, 7), (8, 7), (9, 7), (8, 7), (9, 7), (8, 7), (9, 7), (8, 7), (9, 7), (8, 7), (9, 7), (8, 7), (9, 7), (8, 7), (9, 7), (8, 7), (9, 7), (8, 7), (9, 7), (8, 7), (9, 7), (8, 7), (9, 7), (8, 7), (9, 7), (8, 7), (9, 7), (8, 7), (9, 7), (8, 7), (9, 7), (8, 7), (9, 7), (8, 7), (9, 7), (8, 7), (9, 7), (8, 7), (9, 7), (8, 7), (9, 7), (8, 7), (9, 7), (8, 7), (9, 7), (8, 7), (9, 7), (8, 7), (9, 7), (8, 7), (9, 7), (8, 7), (9, 7), (8, 7), (9, 7), (8, 7), (9, 7), (8, 7), (9, 7), (8, 7), (9, 7), (8, 7), (9, 7), (8, 7), (9, 7), (8, 7), (9, 7), (8, 7), (9, 7), (8, 7), (9, 7), (8, 7), (9, 7), (8, 7), (9, 7), (8, 7), (9, 7), (8, 7), (9, 7), (8, 7), (9, 7), (8, 7), (9, 7), (8, 7), (9, 7), (8, 7), (9, 7), (8, 7), (9, 7), (8, 7), (9, 7), (8, 7), (9, 7), (8, 7), (9, 7), (8, 7), (9, 7), (8, 7), (9, 7), (8, 7), (9, 7), (8, 7), (9, 7), (8, 7), (9, 7), (8, 7), (9, 7), (8, 7), (9, 7), (8, 7), (9, 7), (8, 7), (9, 7), (8, 7), (9, 7)], -106)\n"
     ]
    }
   ],
   "source": [
    "print(gt.best_agent.get_shortest_path())"
   ]
  },
  {
   "cell_type": "code",
   "execution_count": 220,
   "metadata": {},
   "outputs": [
    {
     "data": {
      "text/plain": [
       "[(0, -3), (17, 79), (21, 84), (27, 173), (36, 266), (37, 267), (98, 455)]"
      ]
     },
     "execution_count": 220,
     "metadata": {},
     "output_type": "execute_result"
    }
   ],
   "source": [
    "gt.best_reward_history"
   ]
  },
  {
   "cell_type": "code",
   "execution_count": 221,
   "metadata": {},
   "outputs": [],
   "source": [
    "from scipy.interpolate import interp1d\n",
    "\n",
    "def interpolate_points(points, min_x, max_x, only_y=True):\n",
    "    points = points.copy()\n",
    "    x, y = zip(*points)\n",
    "    f = interp1d(x, y, bounds_error=False, fill_value=None)\n",
    "    x_new = range(min_x, max_x)\n",
    "    y_new = f(x_new)\n",
    "    if only_y:\n",
    "        return [y if y is not None else None for y in y_new]\n",
    "    else:\n",
    "        return [(x, y) if y is not None else (x, None) for x, y in zip(x_new, y_new)]"
   ]
  },
  {
   "cell_type": "markdown",
   "metadata": {},
   "source": [
    "## Cross-Validation and Plotting\n",
    "We perform cross-validation to assess the performance of the trained agents and plot the results:"
   ]
  },
  {
   "cell_type": "code",
   "execution_count": 222,
   "metadata": {},
   "outputs": [],
   "source": [
    "def cross_val(num_cross_val = 10,population=10, num_episodes=1000, q_learning_episodes=10, use_genetic_algorithm=True):\n",
    "    best_reward_history_list = []\n",
    "    for i in range(num_cross_val):\n",
    "        print(f\"Cross Validation {i+1} of {num_cross_val}\")\n",
    "        gt = None\n",
    "        gt = GeneticTraining(population=population)\n",
    "        gt.train(episodes=num_episodes, q_learning_episodes=q_learning_episodes, use_genetic_algorithm=use_genetic_algorithm)\n",
    "        # print(gt.best_reward_history[-1])\n",
    "        print(\"\\n\")\n",
    "        best_reward_history_interpolated = interpolate_points(gt.best_reward_history, min_x=0, max_x=num_episodes//q_learning_episodes, only_y=True)\n",
    "        best_reward_history_list.append(best_reward_history_interpolated)\n",
    "\n",
    "    \n",
    "    return best_reward_history_list"
   ]
  },
  {
   "cell_type": "code",
   "execution_count": 223,
   "metadata": {},
   "outputs": [
    {
     "name": "stdout",
     "output_type": "stream",
     "text": [
      "Cross Validation 1 of 5\n"
     ]
    },
    {
     "name": "stderr",
     "output_type": "stream",
     "text": [
      "Training Progress: 100%|██████████| 200/200 [00:01<00:00, 142.41Step/s, (Step, Best Reward)=(165, 455)]\n"
     ]
    },
    {
     "name": "stdout",
     "output_type": "stream",
     "text": [
      "\n",
      "\n",
      "Cross Validation 2 of 5\n"
     ]
    },
    {
     "name": "stderr",
     "output_type": "stream",
     "text": [
      "Training Progress: 100%|██████████| 200/200 [00:01<00:00, 150.80Step/s, (Step, Best Reward)=(141, 455)]\n"
     ]
    },
    {
     "name": "stdout",
     "output_type": "stream",
     "text": [
      "\n",
      "\n",
      "Cross Validation 3 of 5\n"
     ]
    },
    {
     "name": "stderr",
     "output_type": "stream",
     "text": [
      "Training Progress: 100%|██████████| 200/200 [00:01<00:00, 135.18Step/s, (Step, Best Reward)=(179, 458)]\n"
     ]
    },
    {
     "name": "stdout",
     "output_type": "stream",
     "text": [
      "\n",
      "\n",
      "Cross Validation 4 of 5\n"
     ]
    },
    {
     "name": "stderr",
     "output_type": "stream",
     "text": [
      "Training Progress: 100%|██████████| 200/200 [00:01<00:00, 153.25Step/s, (Step, Best Reward)=(160, 455)]\n"
     ]
    },
    {
     "name": "stdout",
     "output_type": "stream",
     "text": [
      "\n",
      "\n",
      "Cross Validation 5 of 5\n"
     ]
    },
    {
     "name": "stderr",
     "output_type": "stream",
     "text": [
      "Training Progress: 100%|██████████| 200/200 [00:01<00:00, 150.64Step/s, (Step, Best Reward)=(144, 455)]\n"
     ]
    },
    {
     "name": "stdout",
     "output_type": "stream",
     "text": [
      "\n",
      "\n",
      "Cross Validation 1 of 5\n"
     ]
    },
    {
     "name": "stderr",
     "output_type": "stream",
     "text": [
      "Training Progress: 100%|██████████| 200/200 [00:25<00:00,  7.81Step/s, (Step, Best Reward)=(119, 455)]\n"
     ]
    },
    {
     "name": "stdout",
     "output_type": "stream",
     "text": [
      "\n",
      "\n",
      "Cross Validation 2 of 5\n"
     ]
    },
    {
     "name": "stderr",
     "output_type": "stream",
     "text": [
      "Training Progress: 100%|██████████| 200/200 [00:22<00:00,  9.07Step/s, (Step, Best Reward)=(131, 462)]\n"
     ]
    },
    {
     "name": "stdout",
     "output_type": "stream",
     "text": [
      "\n",
      "\n",
      "Cross Validation 3 of 5\n"
     ]
    },
    {
     "name": "stderr",
     "output_type": "stream",
     "text": [
      "Training Progress: 100%|██████████| 200/200 [00:10<00:00, 18.36Step/s, (Step, Best Reward)=(117, 455)]\n"
     ]
    },
    {
     "name": "stdout",
     "output_type": "stream",
     "text": [
      "\n",
      "\n",
      "Cross Validation 4 of 5\n"
     ]
    },
    {
     "name": "stderr",
     "output_type": "stream",
     "text": [
      "Training Progress: 100%|██████████| 200/200 [00:20<00:00,  9.79Step/s, (Step, Best Reward)=(122, 462)]\n"
     ]
    },
    {
     "name": "stdout",
     "output_type": "stream",
     "text": [
      "\n",
      "\n",
      "Cross Validation 5 of 5\n"
     ]
    },
    {
     "name": "stderr",
     "output_type": "stream",
     "text": [
      "Training Progress: 100%|██████████| 200/200 [00:25<00:00,  7.82Step/s, (Step, Best Reward)=(115, 462)]\n"
     ]
    },
    {
     "name": "stdout",
     "output_type": "stream",
     "text": [
      "\n",
      "\n",
      "Cross Validation 1 of 5\n"
     ]
    },
    {
     "name": "stderr",
     "output_type": "stream",
     "text": [
      "Training Progress: 100%|██████████| 200/200 [02:14<00:00,  1.49Step/s, (Step, Best Reward)=(98, 455)]\n"
     ]
    },
    {
     "name": "stdout",
     "output_type": "stream",
     "text": [
      "\n",
      "\n",
      "Cross Validation 2 of 5\n"
     ]
    },
    {
     "name": "stderr",
     "output_type": "stream",
     "text": [
      "Training Progress: 100%|██████████| 200/200 [02:14<00:00,  1.48Step/s, (Step, Best Reward)=(94, 455)]\n"
     ]
    },
    {
     "name": "stdout",
     "output_type": "stream",
     "text": [
      "\n",
      "\n",
      "Cross Validation 3 of 5\n"
     ]
    },
    {
     "name": "stderr",
     "output_type": "stream",
     "text": [
      "Training Progress: 100%|██████████| 200/200 [02:19<00:00,  1.43Step/s, (Step, Best Reward)=(99, 455)]\n"
     ]
    },
    {
     "name": "stdout",
     "output_type": "stream",
     "text": [
      "\n",
      "\n",
      "Cross Validation 4 of 5\n"
     ]
    },
    {
     "name": "stderr",
     "output_type": "stream",
     "text": [
      "Training Progress: 100%|██████████| 200/200 [01:36<00:00,  2.08Step/s, (Step, Best Reward)=(97, 455)]\n"
     ]
    },
    {
     "name": "stdout",
     "output_type": "stream",
     "text": [
      "\n",
      "\n",
      "Cross Validation 5 of 5\n"
     ]
    },
    {
     "name": "stderr",
     "output_type": "stream",
     "text": [
      "Training Progress: 100%|██████████| 200/200 [00:49<00:00,  4.00Step/s, (Step, Best Reward)=(90, 455)]"
     ]
    },
    {
     "name": "stdout",
     "output_type": "stream",
     "text": [
      "\n",
      "\n"
     ]
    },
    {
     "name": "stderr",
     "output_type": "stream",
     "text": [
      "\n"
     ]
    }
   ],
   "source": [
    "history_single = cross_val(num_cross_val=5, population=1, num_episodes=2000, q_learning_episodes=10, use_genetic_algorithm=False)\n",
    "history_multi = cross_val(num_cross_val=5, population=20, num_episodes=2000, q_learning_episodes=10, use_genetic_algorithm=False)\n",
    "history_genetic = cross_val(num_cross_val=5, population=20, num_episodes=2000, q_learning_episodes=10, use_genetic_algorithm=True)"
   ]
  },
  {
   "cell_type": "code",
   "execution_count": 224,
   "metadata": {},
   "outputs": [],
   "source": [
    "len(history_single)\n",
    "hist_array = np.array(history_single)\n",
    "# hist_array\n"
   ]
  },
  {
   "cell_type": "code",
   "execution_count": 225,
   "metadata": {},
   "outputs": [
    {
     "data": {
      "image/png": "[encoded data removed]",
      "text/plain": [
       "<Figure size 640x480 with 1 Axes>"
      ]
     },
     "metadata": {},
     "output_type": "display_data"
    }
   ],
   "source": [
    "from plot import plot_train_test_losses\n",
    "history_single_arr, history_multi_arr, history_genetic_arr = np.array(history_single), np.array(history_multi), np.array(history_genetic)\n",
    "\n",
    "plot_train_test_losses(history_single_arr, history_multi_arr, history_genetic_arr)\n",
    "\n",
    "# # Save history arrays for later use\n",
    "# np.save(\"history_single.npy\", history_single)\n",
    "# np.save(\"history_multi.npy\", history)\n",
    "# np.save(\"history_genetic.npy\", history2)\n"
   ]
  }
 ],
 "metadata": {
  "kernelspec": {
   "display_name": "pytorchGPU",
   "language": "python",
   "name": "python3"
  },
  "language_info": {
   "codemirror_mode": {
    "name": "ipython",
    "version": 3
   },
   "file_extension": ".py",
   "mimetype": "text/x-python",
   "name": "python",
   "nbconvert_exporter": "python",
   "pygments_lexer": "ipython3",
   "version": "3.9.16"
  },
  "orig_nbformat": 4
 },
 "nbformat": 4,
 "nbformat_minor": 2
}
